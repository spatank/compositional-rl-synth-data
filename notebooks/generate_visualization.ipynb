{
 "cells": [
  {
   "cell_type": "code",
   "execution_count": 1,
   "metadata": {},
   "outputs": [],
   "source": [
    "import os\n",
    "import composuite\n",
    "from CORL.algorithms.offline.td3_bc import *\n",
    "from diffusion.utils import *\n",
    "import numpy as np\n",
    "import imageio\n",
    "\n",
    "def get_weights_norm(model):\n",
    "    total_norm = 0.0\n",
    "    for param in model.parameters():\n",
    "        if param.requires_grad:\n",
    "            total_norm += param.norm(2).item() ** 2\n",
    "    return total_norm ** 0.5\n",
    "\n",
    "\n",
    "base_agent_data_path = '/Users/shubhankar/Developer/compositional-rl-synth-data/data'\n",
    "base_synthetic_data_path = '/Users/shubhankar/Developer/compositional-rl-synth-data/cluster_results/diffusion'\n",
    "\n",
    "base_results_folder = '/Users/shubhankar/Developer/compositional-rl-synth-data/local_results/offline_learning'"
   ]
  },
  {
   "cell_type": "code",
   "execution_count": 2,
   "metadata": {},
   "outputs": [],
   "source": [
    "# robot = 'Kinova3'\n",
    "# obj = 'Hollowbox'\n",
    "# obst = 'None'\n",
    "# subtask = 'Trashcan'\n",
    "\n",
    "# robot = 'Panda'\n",
    "# obj = 'Dumbbell'\n",
    "# obst = 'ObjectDoor'\n",
    "# subtask = 'PickPlace'\n",
    "\n",
    "robot = 'Jaco'\n",
    "obj = 'Plate'\n",
    "obst = 'GoalWall'\n",
    "subtask = 'PickPlace'\n",
    "\n",
    "data_type = 'synthetic'"
   ]
  },
  {
   "cell_type": "code",
   "execution_count": 3,
   "metadata": {},
   "outputs": [],
   "source": [
    "config = TrainConfig()\n",
    "\n",
    "run = f'offline_learning_{data_type}_12'  # agent --> Kinova3-None-Hollowbox-Trashcan\n",
    "run = f'offline_learning_{data_type}_14'  # agent --> Panda-Dumbbell-ObjectDoor-PickPlace\n",
    "run = f'offline_learning_{data_type}_16'  # agent --> Jaco-Plate-GoalWall-PickPlace\n",
    "\n",
    "if data_type == 'synthetic':\n",
    "    synthetic_run_id = 'cond_diff_20'\n",
    "    mode = 'train'\n",
    "    run = f'offline_learning_{data_type}_6'  # synthetic --> Kinova3-None-Hollowbox-Trashcan\n",
    "    run = f'offline_learning_{data_type}_12'  # synthetic --> Panda-Dumbbell-ObjectDoor-PickPlace\n",
    "    run = f'offline_learning_{data_type}_13'  # synthetic --> Jaco-Plate-GoalWall-PickPlace\n",
    "\n",
    "checkpoint = 'checkpoint_5000.pt'"
   ]
  },
  {
   "cell_type": "code",
   "execution_count": 4,
   "metadata": {},
   "outputs": [],
   "source": [
    "checkpoint_path = os.path.join(base_results_folder, run, 'checkpoint_5000.pt')\n",
    "checkpoint = torch.load(checkpoint_path, map_location=torch.device('cpu'), weights_only=True)"
   ]
  },
  {
   "cell_type": "code",
   "execution_count": 5,
   "metadata": {},
   "outputs": [],
   "source": [
    "if data_type == 'agent':\n",
    "    env = composuite.make(robot, obj, obst, subtask, use_task_id_obs=True, ignore_done=False)\n",
    "    dataset = load_single_composuite_dataset(base_path=base_agent_data_path, \n",
    "                                             dataset_type='expert', \n",
    "                                             robot=robot, obj=obj, \n",
    "                                             obst=obst, task=subtask)\n",
    "    dataset, _ = remove_indicator_vectors(env.modality_dims, transitions_dataset(dataset))\n",
    "\n",
    "if data_type == 'synthetic':\n",
    "    dataset = load_single_synthetic_dataset(base_path=os.path.join(base_synthetic_data_path, synthetic_run_id, mode), \n",
    "                                            robot=robot, obj=obj, \n",
    "                                            obst=obst, task=subtask)"
   ]
  },
  {
   "cell_type": "code",
   "execution_count": null,
   "metadata": {},
   "outputs": [],
   "source": [
    "env = composuite.make(\n",
    "    robot=robot,\n",
    "    obj=obj,\n",
    "    obstacle=obst,\n",
    "    task=subtask,\n",
    "    has_renderer=True,\n",
    "    ignore_done=True,\n",
    ")\n",
    "\n",
    "state_dim = env.observation_space.shape[0]\n",
    "action_dim = env.action_space.shape[0]\n",
    "state_mean, state_std = compute_mean_std(dataset[\"observations\"], eps=1e-3)\n",
    "env = wrap_env(env, state_mean=state_mean, state_std=state_std)\n",
    "\n",
    "max_action = float(env.action_space.high[0])"
   ]
  },
  {
   "cell_type": "code",
   "execution_count": null,
   "metadata": {},
   "outputs": [],
   "source": [
    "print(state_mean.mean(), state_std.mean())"
   ]
  },
  {
   "cell_type": "code",
   "execution_count": null,
   "metadata": {},
   "outputs": [],
   "source": [
    "actor = Actor(state_dim, action_dim, max_action, hidden_dim=config.network_width, n_hidden=config.network_depth).to(config.device)\n",
    "print('Before:', get_weights_norm(actor))\n",
    "actor.load_state_dict(checkpoint['actor'])\n",
    "print('After:', get_weights_norm(actor))"
   ]
  },
  {
   "cell_type": "code",
   "execution_count": 9,
   "metadata": {},
   "outputs": [],
   "source": [
    "# state = env.reset()\n",
    "# env.viewer.set_camera(camera_id=3)\n",
    "\n",
    "# low, high = env.action_spec\n",
    "\n",
    "# for _ in range(1000):\n",
    "#     action = actor.act(state)\n",
    "#     state, _, _, _ = env.step(action)\n",
    "#     env.render()"
   ]
  },
  {
   "cell_type": "code",
   "execution_count": null,
   "metadata": {},
   "outputs": [],
   "source": [
    "print(env.sim.model.camera_names)"
   ]
  },
  {
   "cell_type": "code",
   "execution_count": 11,
   "metadata": {},
   "outputs": [],
   "source": [
    "state = env.reset()\n",
    "\n",
    "low, high = env.action_spec\n",
    "frames = []\n",
    "\n",
    "for _ in range(450):\n",
    "    action = actor.act(state)\n",
    "    state, _, _, _ = env.step(action)\n",
    "    frame = env.sim.render(width=1024, height=1024, camera_name='sideview') \n",
    "    frame = np.flipud(frame)\n",
    "    frames.append(frame)"
   ]
  },
  {
   "cell_type": "code",
   "execution_count": 12,
   "metadata": {},
   "outputs": [],
   "source": [
    "fps = 50\n",
    "if frames:\n",
    "    imageio.mimsave(\"simulation.gif\", frames, duration=1000/fps)"
   ]
  }
 ],
 "metadata": {
  "kernelspec": {
   "display_name": ".venv",
   "language": "python",
   "name": "python3"
  },
  "language_info": {
   "codemirror_mode": {
    "name": "ipython",
    "version": 3
   },
   "file_extension": ".py",
   "mimetype": "text/x-python",
   "name": "python",
   "nbconvert_exporter": "python",
   "pygments_lexer": "ipython3",
   "version": "3.9.6"
  }
 },
 "nbformat": 4,
 "nbformat_minor": 2
}
