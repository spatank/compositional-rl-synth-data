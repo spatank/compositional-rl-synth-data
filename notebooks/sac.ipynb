{
 "cells": [
  {
   "cell_type": "code",
   "execution_count": null,
   "metadata": {},
   "outputs": [],
   "source": [
    "from diffusion.utils import *\n",
    "from corl.algorithms import sac_n\n",
    "from corl.shared.buffer import *\n",
    "from tqdm import trange\n",
    "import wandb\n",
    "import pathlib\n",
    "\n",
    "base_agent_data_path = '/Users/shubhankar/Developer/compositional-rl-synth-data/data'\n",
    "base_synthetic_data_path = '/Users/shubhankar/Developer/compositional-rl-synth-data/cluster_results/diffusion/monolithic_seed0_train98_1'\n",
    "base_results_folder = '/Users/shubhankar/Developer/compositional-rl-synth-data/local_results/offline_learning'"
   ]
  },
  {
   "cell_type": "code",
   "execution_count": null,
   "metadata": {},
   "outputs": [],
   "source": [
    "data_type = 'agent'\n",
    "\n",
    "config = sac_n.TrainConfig()\n",
    "config.seed = 0\n",
    "config.n_episodes = 10\n",
    "config.batch_size = 1024\n",
    "config.max_timesteps = 50000\n",
    "\n",
    "synthetic_run_id = ''\n",
    "mode = ''  # train/test\n",
    "\n",
    "robot = 'Panda'\n",
    "obj = 'Box'\n",
    "obst = 'None'\n",
    "subtask = 'Push'\n",
    "\n",
    "env = composuite.make(robot, obj, obst, subtask, use_task_id_obs=True, ignore_done=False)\n",
    "agent_dataset = load_single_composuite_dataset(base_path=base_agent_data_path, \n",
    "                                               dataset_type='expert', \n",
    "                                               robot=robot, obj=obj, \n",
    "                                               obst=obst, task=subtask)\n",
    "agent_dataset, _ = remove_indicator_vectors(env.modality_dims, transitions_dataset(agent_dataset))\n",
    "\n",
    "integer_dims, constant_dims = identify_special_dimensions(agent_dataset['observations'])\n",
    "print('Integer dimensions:', integer_dims)\n",
    "print('Constant dimensions:', constant_dims)\n",
    "\n",
    "if data_type == 'synthetic':\n",
    "    synthetic_dataset = load_single_synthetic_dataset(base_path=os.path.join(base_synthetic_data_path, synthetic_run_id, mode), \n",
    "                                                      robot=robot, obj=obj, \n",
    "                                                      obst=obst, task=subtask)\n",
    "    synthetic_dataset = process_special_dimensions(synthetic_dataset, integer_dims, constant_dims)"
   ]
  },
  {
   "cell_type": "code",
   "execution_count": null,
   "metadata": {},
   "outputs": [],
   "source": [
    "agent_dataset['observations'].shape"
   ]
  },
  {
   "cell_type": "code",
   "execution_count": null,
   "metadata": {},
   "outputs": [],
   "source": [
    "# synthetic_dataset['observations'].shape"
   ]
  },
  {
   "cell_type": "code",
   "execution_count": null,
   "metadata": {},
   "outputs": [],
   "source": [
    "base_results_path = pathlib.Path(base_results_folder)\n",
    "idx = 1\n",
    "while (base_results_path / f\"offline_learning_{data_type}_{idx}\").exists():\n",
    "    idx += 1\n",
    "results_folder = base_results_path / f\"offline_learning_{data_type}_{idx}\"\n",
    "results_folder.mkdir(parents=True, exist_ok=True)\n",
    "\n",
    "config.checkpoints_path = results_folder"
   ]
  },
  {
   "cell_type": "code",
   "execution_count": null,
   "metadata": {},
   "outputs": [],
   "source": [
    "if data_type == 'agent':\n",
    "    dataset = agent_dataset\n",
    "    num_samples = int(dataset['observations'].shape[0])\n",
    "elif data_type == 'synthetic':\n",
    "    dataset = synthetic_dataset\n",
    "    num_samples = int(dataset['observations'].shape[0])\n",
    "print(\"Samples:\", num_samples)"
   ]
  },
  {
   "cell_type": "code",
   "execution_count": null,
   "metadata": {},
   "outputs": [],
   "source": [
    "env = composuite.make(robot, obj, obst, subtask, use_task_id_obs=False, has_renderer=True, ignore_done=False)\n",
    "state_dim = env.observation_space.shape[0]\n",
    "action_dim = env.action_space.shape[0]\n",
    "state_mean, state_std = sac_n.compute_mean_std(dataset[\"observations\"], eps=1e-3)\n",
    "env = sac_n.wrap_env(env, state_mean=state_mean, state_std=state_std)"
   ]
  },
  {
   "cell_type": "code",
   "execution_count": null,
   "metadata": {},
   "outputs": [],
   "source": [
    "device = \"cpu\"\n",
    "\n",
    "# replay_buffer = prepare_replay_buffer(\n",
    "#     state_dim=state_dim,\n",
    "#     action_dim=action_dim,\n",
    "#     dataset=dataset,\n",
    "#     num_samples=num_samples,\n",
    "#     device=device,\n",
    "#     reward_normalizer=RewardNormalizer(dataset, config.env) if config.normalize_reward else None,\n",
    "#     state_normalizer=StateNormalizer(state_mean, state_std),\n",
    "#     )\n",
    "\n",
    "replay_buffer = sac_n.ReplayBuffer(\n",
    "    state_dim=state_dim,\n",
    "    action_dim=action_dim,\n",
    "    buffer_size=num_samples,\n",
    "    device=device,\n",
    ")\n",
    "replay_buffer.load_d4rl_dataset(dataset)"
   ]
  },
  {
   "cell_type": "code",
   "execution_count": null,
   "metadata": {},
   "outputs": [],
   "source": [
    "max_action = float(env.action_space.high[0])\n",
    "config.max_action = max_action"
   ]
  },
  {
   "cell_type": "code",
   "execution_count": null,
   "metadata": {},
   "outputs": [],
   "source": [
    "# Set seeds\n",
    "seed = config.seed\n",
    "sac_n.set_seed(seed, env)\n",
    "\n",
    "actor = sac_n.Actor(state_dim, action_dim, config.hidden_dim, config.max_action)\n",
    "actor.to(config.device)\n",
    "actor_optimizer = torch.optim.Adam(actor.parameters(), lr=config.actor_learning_rate)\n",
    "critic = sac_n.VectorizedCritic(state_dim, action_dim, config.hidden_dim, config.num_critics)\n",
    "critic.to(config.device)\n",
    "critic_optimizer = torch.optim.Adam(critic.parameters(), lr=config.critic_learning_rate)"
   ]
  },
  {
   "cell_type": "code",
   "execution_count": null,
   "metadata": {},
   "outputs": [],
   "source": [
    "print(\"----------------------------------------------------\")\n",
    "print(f\"Training SAC, Env: {config.env}, Seed: {seed}\")\n",
    "print(\"----------------------------------------------------\")\n",
    "\n",
    "trainer = sac_n.SACN(\n",
    "    actor=actor,\n",
    "    actor_optimizer=actor_optimizer,\n",
    "    critic=critic,\n",
    "    critic_optimizer=critic_optimizer,\n",
    "    gamma=config.gamma,\n",
    "    tau=config.tau,\n",
    "    alpha_learning_rate=config.alpha_learning_rate,\n",
    "    device=config.device,\n",
    ")"
   ]
  },
  {
   "cell_type": "code",
   "execution_count": null,
   "metadata": {},
   "outputs": [],
   "source": [
    "wandb_project = 'offline_rl_diffusion'\n",
    "wandb_entity = ''\n",
    "wandb_group = 'corl_training'\n",
    "\n",
    "wandb.init(\n",
    "    project=wandb_project,\n",
    "    entity=wandb_entity,\n",
    "    group=wandb_group,\n",
    "    name=results_folder.name,\n",
    ")"
   ]
  },
  {
   "cell_type": "code",
   "execution_count": null,
   "metadata": {},
   "outputs": [],
   "source": [
    "print(config.checkpoints_path)"
   ]
  },
  {
   "cell_type": "code",
   "execution_count": null,
   "metadata": {},
   "outputs": [],
   "source": [
    "total_updates = 0\n",
    "evaluations = []\n",
    "for epoch in trange(config.num_epochs, desc=\"Training\"):\n",
    "    # training\n",
    "    for _ in trange(config.num_updates_on_epoch, desc=\"Epoch\", leave=False):\n",
    "        batch = replay_buffer.sample(config.batch_size)\n",
    "        update_info = trainer.update(batch)\n",
    "        if total_updates % config.log_every == 0:\n",
    "            wandb.log({\"epoch\": epoch, **update_info})\n",
    "        total_updates += 1\n",
    "    # evaluation\n",
    "    if epoch % config.eval_every == 0 or epoch == config.num_epochs - 1:\n",
    "        print(f\"Running evaluation at epoch {epoch + 1}\")\n",
    "        eval_returns = sac_n.eval_actor(\n",
    "            env=env,\n",
    "            actor=actor,\n",
    "            n_episodes=config.eval_episodes,\n",
    "            seed=config.eval_seed,\n",
    "            device=config.device,\n",
    "        )\n",
    "        eval_score = np.mean(eval_returns)\n",
    "        evaluations.append(eval_score)\n",
    "        print(\"------------------------------------------------\")\n",
    "        print(\n",
    "            f\"Evaluation over {config.eval_episodes} episodes: \"\n",
    "            f\"{eval_score:.3f}\"\n",
    "        )\n",
    "        print(\"------------------------------------------------\")\n",
    "        eval_log = {\n",
    "            \"eval/reward_mean\": eval_score,\n",
    "            \"eval/reward_std\": np.std(eval_returns),\n",
    "            \"epoch\": epoch,\n",
    "        }\n",
    "        wandb.log(eval_log)\n",
    "        if config.checkpoints_path is not None:\n",
    "            torch.save(\n",
    "                trainer.state_dict(),\n",
    "                os.path.join(config.checkpoints_path, f\"{epoch}.pt\"),\n",
    "            )"
   ]
  }
 ],
 "metadata": {
  "kernelspec": {
   "display_name": ".venv",
   "language": "python",
   "name": "python3"
  },
  "language_info": {
   "codemirror_mode": {
    "name": "ipython",
    "version": 3
   },
   "file_extension": ".py",
   "mimetype": "text/x-python",
   "name": "python",
   "nbconvert_exporter": "python",
   "pygments_lexer": "ipython3",
   "version": "3.9.6"
  }
 },
 "nbformat": 4,
 "nbformat_minor": 2
}
