{
 "cells": [
  {
   "cell_type": "code",
   "execution_count": null,
   "metadata": {},
   "outputs": [],
   "source": [
    "from diffusion.utils import *\n",
    "from pathlib import Path\n",
    "\n",
    "base_data_path = '/Users/shubhankar/Developer/compositional-rl-synth-data/data/'\n",
    "base_results_folder = '/Users/shubhankar/Developer/compositional-rl-synth-data/cluster_results/'"
   ]
  },
  {
   "cell_type": "code",
   "execution_count": null,
   "metadata": {},
   "outputs": [],
   "source": [
    "gin_config_files = ['/Users/shubhankar/Developer/compositional-rl-synth-data/config/diffusion.gin']\n",
    "gin.parse_config_files_and_bindings(gin_config_files, [])"
   ]
  },
  {
   "cell_type": "code",
   "execution_count": null,
   "metadata": {},
   "outputs": [],
   "source": [
    "run = 20\n",
    "\n",
    "robot = 'IIWA'\n",
    "obj = 'Box'\n",
    "obst = 'None'\n",
    "subtask = 'Trashcan'"
   ]
  },
  {
   "cell_type": "code",
   "execution_count": null,
   "metadata": {},
   "outputs": [],
   "source": [
    "checkpoint_path = os.path.join(base_results_folder, 'tmp_model_checkpoints', f'cond_diff_{run}', 'model-100000.pt')"
   ]
  },
  {
   "cell_type": "code",
   "execution_count": null,
   "metadata": {},
   "outputs": [],
   "source": [
    "results_folder = os.path.join(base_results_folder, 'diffusion', f'cond_diff_{run}')\n",
    "subtask_folder = os.path.join(results_folder, f\"{robot}_{obj}_{obst}_{subtask}\")\n",
    "subtask_folder = os.path.join(results_folder)"
   ]
  },
  {
   "cell_type": "code",
   "execution_count": null,
   "metadata": {},
   "outputs": [],
   "source": [
    "representative_env = composuite.make(robot, obj, obst, subtask, use_task_id_obs=False, ignore_done=False)\n",
    "representative_indicators_env = composuite.make(robot, obj, obst, subtask, use_task_id_obs=True, ignore_done=False)\n",
    "modality_dims = representative_indicators_env.modality_dims\n",
    "\n",
    "dataset = load_single_composuite_dataset(base_data_path, \"expert\", robot, obj, obst, subtask)\n",
    "dataset = transitions_dataset(dataset)\n",
    "dataset, indicators = remove_indicator_vectors(modality_dims, dataset)\n",
    "inputs = make_inputs(dataset)\n",
    "\n",
    "inputs = torch.from_numpy(inputs).float()\n",
    "indicators = torch.from_numpy(indicators).float()\n",
    "dataset = torch.utils.data.TensorDataset(inputs, indicators)"
   ]
  },
  {
   "cell_type": "code",
   "execution_count": null,
   "metadata": {},
   "outputs": [],
   "source": [
    "representative_env.obs_dim"
   ]
  },
  {
   "cell_type": "code",
   "execution_count": null,
   "metadata": {},
   "outputs": [],
   "source": [
    "diffusion = construct_diffusion_model(inputs=inputs, denoiser='monolithic', cond_dim=indicators.shape[1])"
   ]
  },
  {
   "cell_type": "code",
   "execution_count": null,
   "metadata": {},
   "outputs": [],
   "source": [
    "checkpoint_path = '/Users/shubhankar/Developer/compositional-rl-synth-data/cluster_results/diffusion/monolithic_seed0_train56_1/model-100000.pt'\n",
    "checkpoint = torch.load(checkpoint_path, map_location=torch.device('cpu'), weights_only=True)"
   ]
  },
  {
   "cell_type": "code",
   "execution_count": null,
   "metadata": {},
   "outputs": [],
   "source": [
    "checkpoint.keys()"
   ]
  },
  {
   "cell_type": "code",
   "execution_count": null,
   "metadata": {},
   "outputs": [],
   "source": [
    "checkpoint['model']['normalizer.mean']"
   ]
  },
  {
   "cell_type": "code",
   "execution_count": null,
   "metadata": {},
   "outputs": [],
   "source": [
    "checkpoint['model']['normalizer.std'].shape"
   ]
  },
  {
   "cell_type": "code",
   "execution_count": null,
   "metadata": {},
   "outputs": [],
   "source": [
    "dummy_tensor = torch.zeros((1, checkpoint['model']['normalizer.mean'].shape[0]))\n",
    "\n",
    "# Initialize the normalizer with dummy data\n",
    "normalizer = diffusion.norm.Normalizer(dummy_tensor, skip_dims=skip_dims, target_std=target_std)\n",
    "\n",
    "# Override the mean and std with values from checkpoint\n",
    "normalizer.mean = checkpoint['model']['normalizer.mean']\n",
    "normalizer.std = checkpoint['model']['normalizer.std']"
   ]
  },
  {
   "cell_type": "code",
   "execution_count": null,
   "metadata": {},
   "outputs": [],
   "source": [
    "ema_dict = checkpoint['ema']\n",
    "ema_dict = {k: v for k, v in ema_dict.items() if k.startswith('ema_model')}\n",
    "ema_dict = {k.replace('ema_model.', ''): v for k, v in ema_dict.items()}\n",
    "diffusion.load_state_dict(ema_dict)\n",
    "diffusion.eval()"
   ]
  },
  {
   "cell_type": "code",
   "execution_count": null,
   "metadata": {},
   "outputs": [],
   "source": [
    "subtask_indicator = get_task_indicator(robot, obj, obst, subtask)\n",
    "generator = SimpleDiffusionGenerator(env=representative_env, ema_model=diffusion, sample_batch_size=10000)\n",
    "obs, actions, rewards, next_obs, terminals = generator.sample(num_samples=10000, cond=subtask_indicator)"
   ]
  },
  {
   "cell_type": "code",
   "execution_count": null,
   "metadata": {},
   "outputs": [],
   "source": [
    "np.savez_compressed(\n",
    "    Path(subtask_folder) / 'samples.npz',\n",
    "    observations=obs,\n",
    "    actions=actions,\n",
    "    rewards=rewards,\n",
    "    next_observations=next_obs,\n",
    "    terminals=terminals\n",
    ")"
   ]
  }
 ],
 "metadata": {
  "kernelspec": {
   "display_name": ".venv",
   "language": "python",
   "name": "python3"
  },
  "language_info": {
   "codemirror_mode": {
    "name": "ipython",
    "version": 3
   },
   "file_extension": ".py",
   "mimetype": "text/x-python",
   "name": "python",
   "nbconvert_exporter": "python",
   "pygments_lexer": "ipython3",
   "version": "3.9.6"
  }
 },
 "nbformat": 4,
 "nbformat_minor": 2
}
