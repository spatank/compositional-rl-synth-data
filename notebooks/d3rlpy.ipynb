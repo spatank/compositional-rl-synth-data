{
 "cells": [
  {
   "cell_type": "code",
   "execution_count": 1,
   "metadata": {},
   "outputs": [],
   "source": [
    "from diffusion.utils import *\n",
    "import d3rlpy\n",
    "from sklearn.model_selection import train_test_split\n",
    "\n",
    "base_agent_data_path = '/Users/shubhankar/Developer/compositional-rl-synth-data/data'\n",
    "base_synthetic_data_path = '/Users/shubhankar/Developer/compositional-rl-synth-data/cluster_results/diffusion'\n",
    "\n",
    "base_results_folder = '/Users/shubhankar/Developer/compositional-rl-synth-data/local_results/offline_learning'"
   ]
  },
  {
   "cell_type": "code",
   "execution_count": null,
   "metadata": {},
   "outputs": [],
   "source": [
    "robot = 'Jaco'\n",
    "obj = 'Plate'\n",
    "obst = 'GoalWall'\n",
    "subtask = 'PickPlace'\n",
    "\n",
    "env_name = f\"{robot}_{obj}_{obst}_{subtask}\"\n",
    "\n",
    "data_type = 'agent'\n",
    "\n",
    "if data_type == 'synthetic':\n",
    "    synthetic_run_id = 20\n",
    "    mode = 'train'\n",
    "\n",
    "if data_type == 'agent':\n",
    "    env = composuite.make(robot, obj, obst, subtask, use_task_id_obs=True, ignore_done=False)\n",
    "    dataset = load_single_composuite_dataset(base_path=base_agent_data_path, \n",
    "                                             dataset_type='expert', \n",
    "                                             robot=robot, obj=obj, \n",
    "                                             obst=obst, task=subtask)\n",
    "    dataset, _ = remove_indicator_vectors(env.modality_dims, transitions_dataset(dataset))\n",
    "\n",
    "if data_type == 'synthetic':\n",
    "    dataset = load_single_synthetic_dataset(base_path=os.path.join(base_synthetic_data_path, synthetic_run_id, mode), \n",
    "                                            robot=robot, obj=obj, \n",
    "                                            obst=obst, task=subtask)"
   ]
  },
  {
   "cell_type": "code",
   "execution_count": 3,
   "metadata": {},
   "outputs": [],
   "source": [
    "dataset = d3rlpy.dataset.MDPDataset(\n",
    "    observations=dataset['observations'],\n",
    "    actions=dataset['actions'],\n",
    "    rewards=dataset['rewards'],\n",
    "    terminals=dataset['terminals']\n",
    ")"
   ]
  },
  {
   "cell_type": "code",
   "execution_count": 4,
   "metadata": {},
   "outputs": [],
   "source": [
    "sac = d3rlpy.algos.SAC(scaler='standard', action_scaler='min_max')\n",
    "sac.build_with_dataset(dataset)"
   ]
  },
  {
   "cell_type": "code",
   "execution_count": null,
   "metadata": {},
   "outputs": [],
   "source": [
    "train_episodes, test_episodes = train_test_split(dataset, test_size=0.2)\n",
    "eval_env = composuite.make(robot, obj, obst, subtask, ignore_done=False)"
   ]
  },
  {
   "cell_type": "code",
   "execution_count": null,
   "metadata": {},
   "outputs": [],
   "source": [
    "evaluate_scorer = d3rlpy.metrics.scorer.evaluate_on_environment(eval_env)\n",
    "rewards = evaluate_scorer(sac)"
   ]
  },
  {
   "cell_type": "code",
   "execution_count": null,
   "metadata": {},
   "outputs": [],
   "source": [
    "sac.fit(train_episodes,\n",
    "        eval_episodes=test_episodes,\n",
    "        n_epochs=10,\n",
    "        save_interval=10,\n",
    "        scorers={\n",
    "            \"environment\": evaluate_scorer\n",
    "            }\n",
    "        )"
   ]
  }
 ],
 "metadata": {
  "kernelspec": {
   "display_name": ".venv",
   "language": "python",
   "name": "python3"
  },
  "language_info": {
   "codemirror_mode": {
    "name": "ipython",
    "version": 3
   },
   "file_extension": ".py",
   "mimetype": "text/x-python",
   "name": "python",
   "nbconvert_exporter": "python",
   "pygments_lexer": "ipython3",
   "version": "3.9.6"
  }
 },
 "nbformat": 4,
 "nbformat_minor": 2
}
