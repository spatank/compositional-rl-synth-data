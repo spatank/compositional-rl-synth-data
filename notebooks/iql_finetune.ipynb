{
 "cells": [
  {
   "cell_type": "code",
   "execution_count": null,
   "metadata": {},
   "outputs": [],
   "source": [
    "from diffusion.utils import *\n",
    "from corl.algorithms import iql\n",
    "from corl.shared.buffer import *\n",
    "import wandb\n",
    "import pathlib\n",
    "\n",
    "base_agent_data_path = '/Users/shubhankar/Developer/compositional-rl-synth-data/data'\n",
    "base_synthetic_data_path = '/Users/shubhankar/Developer/compositional-rl-synth-data/cluster_results/diffusion/monolithic_seed0_train98_1'\n",
    "base_results_folder = '/Users/shubhankar/Developer/compositional-rl-synth-data/local_results/offline_learning'           "
   ]
  },
  {
   "cell_type": "code",
   "execution_count": null,
   "metadata": {},
   "outputs": [],
   "source": [
    "def combine_two_tensors(tensor1, tensor2):\n",
    "    return torch.cat([tensor1, tensor2], dim=0)\n",
    "\n",
    "class JointReplayBuffer:\n",
    "    def __init__(self, diffusion_buffer, interaction_buffer, diffusion_sample_ratio=0.8, device=\"cpu\"):\n",
    "        self.diffusion_buffer = diffusion_buffer\n",
    "        self.interaction_buffer = interaction_buffer\n",
    "        self.diffusion_sample_ratio = diffusion_sample_ratio\n",
    "        self.device = device\n",
    "\n",
    "    def sample(self, batch_size):\n",
    "        diffusion_batch_size = int(batch_size * self.diffusion_sample_ratio)\n",
    "        interaction_batch_size = batch_size - diffusion_batch_size\n",
    "\n",
    "        if self.interaction_buffer._size < interaction_batch_size:\n",
    "            return self.diffusion_buffer.sample(batch_size)\n",
    "\n",
    "        diffusion_batch = self.diffusion_buffer.sample(diffusion_batch_size)\n",
    "        interaction_batch = self.interaction_buffer.sample(interaction_batch_size)\n",
    "\n",
    "        observations = combine_two_tensors(interaction_batch[0], diffusion_batch[0]).to(self.device)\n",
    "        actions = combine_two_tensors(interaction_batch[1], diffusion_batch[1]).to(self.device)\n",
    "        rewards = combine_two_tensors(interaction_batch[2], diffusion_batch[2]).to(self.device)\n",
    "        next_observations = combine_two_tensors(interaction_batch[3], diffusion_batch[3]).to(self.device)\n",
    "        dones = combine_two_tensors(interaction_batch[4], diffusion_batch[4]).to(self.device)\n",
    "\n",
    "        return observations, actions, rewards, next_observations, dones"
   ]
  },
  {
   "cell_type": "code",
   "execution_count": null,
   "metadata": {},
   "outputs": [],
   "source": [
    "config = iql.TrainConfig()\n",
    "\n",
    "data_type = 'synthetic'\n",
    "\n",
    "if data_type == 'synthetic':\n",
    "    config.seed = 0\n",
    "    synthetic_run_id = ''\n",
    "    mode = ''  # train/test\n",
    "    config.n_episodes = 10\n",
    "    config.batch_size = 512\n",
    "\n",
    "config.max_timesteps = 50000\n",
    "\n",
    "robot = 'Panda'\n",
    "obj = 'Box'\n",
    "obst = 'None'\n",
    "subtask = 'Push'\n",
    "\n",
    "env = composuite.make(robot, obj, obst, subtask, use_task_id_obs=True, ignore_done=False)\n",
    "agent_dataset = load_single_composuite_dataset(base_path=base_agent_data_path, \n",
    "                                               dataset_type='expert', \n",
    "                                               robot=robot, obj=obj, \n",
    "                                               obst=obst, task=subtask)\n",
    "agent_dataset, _ = remove_indicator_vectors(env.modality_dims, transitions_dataset(agent_dataset))\n",
    "\n",
    "integer_dims, constant_dims = identify_special_dimensions(agent_dataset['observations'])\n",
    "print('Integer dimensions:', integer_dims)\n",
    "print('Constant dimensions:', constant_dims)\n",
    "\n",
    "if data_type == 'synthetic':\n",
    "    synthetic_dataset = load_single_synthetic_dataset(base_path=os.path.join(base_synthetic_data_path, synthetic_run_id, mode), \n",
    "                                                      robot=robot, obj=obj, \n",
    "                                                      obst=obst, task=subtask)\n",
    "    synthetic_dataset = process_special_dimensions(synthetic_dataset, integer_dims, constant_dims)"
   ]
  },
  {
   "cell_type": "code",
   "execution_count": null,
   "metadata": {},
   "outputs": [],
   "source": [
    "agent_dataset['observations'].shape"
   ]
  },
  {
   "cell_type": "code",
   "execution_count": null,
   "metadata": {},
   "outputs": [],
   "source": [
    "synthetic_dataset['observations'].shape"
   ]
  },
  {
   "cell_type": "code",
   "execution_count": null,
   "metadata": {},
   "outputs": [],
   "source": [
    "base_results_path = pathlib.Path(base_results_folder)\n",
    "idx = 1\n",
    "while (base_results_path / f\"offline_learning_{data_type}_{idx}\").exists():\n",
    "    idx += 1\n",
    "results_folder = base_results_path / f\"offline_learning_{data_type}_{idx}\"\n",
    "results_folder.mkdir(parents=True, exist_ok=True)\n",
    "\n",
    "config.checkpoints_path = results_folder"
   ]
  },
  {
   "cell_type": "code",
   "execution_count": null,
   "metadata": {},
   "outputs": [],
   "source": [
    "if data_type == 'agent':\n",
    "    dataset = agent_dataset\n",
    "    num_samples = int(dataset['observations'].shape[0])\n",
    "elif data_type == 'synthetic':\n",
    "    dataset = synthetic_dataset\n",
    "    num_samples = int(dataset['observations'].shape[0])\n",
    "print(\"Samples:\", num_samples)"
   ]
  },
  {
   "cell_type": "code",
   "execution_count": null,
   "metadata": {},
   "outputs": [],
   "source": [
    "env = composuite.make(robot, obj, obst, subtask, use_task_id_obs=False, ignore_done=False)\n",
    "state_dim = env.observation_space.shape[0]\n",
    "action_dim = env.action_space.shape[0]\n",
    "state_mean, state_std = iql.compute_mean_std(dataset[\"observations\"], eps=1e-3)\n",
    "env = iql.wrap_env(env, state_mean=state_mean, state_std=state_std)\n",
    "eval_env = composuite.make(robot, obj, obst, subtask, use_task_id_obs=False, ignore_done=False)\n",
    "eval_env = iql.wrap_env(eval_env, state_mean=state_mean, state_std=state_std)"
   ]
  },
  {
   "cell_type": "code",
   "execution_count": null,
   "metadata": {},
   "outputs": [],
   "source": [
    "device = 'cpu'\n",
    "\n",
    "diffusion_buffer = prepare_replay_buffer(\n",
    "    state_dim=state_dim,\n",
    "    action_dim=action_dim,\n",
    "    dataset=dataset,\n",
    "    num_samples=num_samples,\n",
    "    device=device,\n",
    "    reward_normalizer=RewardNormalizer(dataset, config.env) if config.normalize_reward else None,\n",
    "    state_normalizer=StateNormalizer(state_mean, state_std),\n",
    "    )\n",
    "\n",
    "interaction_buffer = ReplayBuffer(\n",
    "    state_dim=state_dim,\n",
    "    action_dim=action_dim,\n",
    "    buffer_size=num_samples,\n",
    "    device=device,\n",
    "    reward_normalizer=RewardNormalizer(dataset, config.env) if config.normalize_reward else None,\n",
    "    state_normalizer=StateNormalizer(state_mean, state_std),\n",
    ")\n",
    "\n",
    "replay_buffer = JointReplayBuffer(diffusion_buffer, interaction_buffer, device=device)"
   ]
  },
  {
   "cell_type": "code",
   "execution_count": null,
   "metadata": {},
   "outputs": [],
   "source": [
    "max_action = float(env.action_space.high[0])"
   ]
  },
  {
   "cell_type": "code",
   "execution_count": null,
   "metadata": {},
   "outputs": [],
   "source": [
    "# Set seeds\n",
    "seed = config.seed\n",
    "iql.set_seed(seed, env)\n",
    "\n",
    "q_network = iql.TwinQ(state_dim, action_dim, hidden_dim=config.network_width, n_hidden=config.network_depth).to(config.device)\n",
    "q_optimizer = torch.optim.Adam(q_network.parameters(), lr=3e-4)\n",
    "\n",
    "v_network = iql.ValueFunction(state_dim, hidden_dim=config.network_width, n_hidden=config.network_depth).to(config.device)\n",
    "v_optimizer = torch.optim.Adam(v_network.parameters(), lr=3e-4)\n",
    "\n",
    "actor = (\n",
    "    iql.DeterministicPolicy(state_dim, action_dim, max_action, hidden_dim=config.network_width, n_hidden=config.network_depth)\n",
    "    if config.iql_deterministic else\n",
    "    iql.GaussianPolicy(state_dim, action_dim, max_action, hidden_dim=config.network_width, n_hidden=config.network_depth)\n",
    ").to(config.device)\n",
    "actor_optimizer = torch.optim.Adam(actor.parameters(), lr=3e-4)"
   ]
  },
  {
   "cell_type": "code",
   "execution_count": null,
   "metadata": {},
   "outputs": [],
   "source": [
    "kwargs = {\n",
    "    \"max_action\": max_action,\n",
    "    \"actor\": actor,\n",
    "    \"actor_optimizer\": actor_optimizer,\n",
    "    \"q_network\": q_network,\n",
    "    \"q_optimizer\": q_optimizer,\n",
    "    \"v_network\": v_network,\n",
    "    \"v_optimizer\": v_optimizer,\n",
    "    \"discount\": config.discount,\n",
    "    \"tau\": config.tau,\n",
    "    \"device\": config.device,\n",
    "    # IQL\n",
    "    \"beta\": config.beta,\n",
    "    \"iql_tau\": config.iql_tau,\n",
    "    \"max_steps\": config.max_timesteps\n",
    "}\n",
    "\n",
    "print(\"----------------------------------------------------\")\n",
    "print(f\"Training IQL, Env: {config.env}, Seed: {seed}\")\n",
    "print(\"----------------------------------------------------\")\n",
    "\n",
    "trainer = iql.ImplicitQLearning(**kwargs)"
   ]
  },
  {
   "cell_type": "code",
   "execution_count": null,
   "metadata": {},
   "outputs": [],
   "source": [
    "wandb_project = 'offline_rl_diffusion'\n",
    "wandb_entity = ''\n",
    "wandb_group = 'corl_training'\n",
    "\n",
    "wandb.init(\n",
    "    project=wandb_project,\n",
    "    entity=wandb_entity,\n",
    "    group=wandb_group,\n",
    "    name=results_folder.name,\n",
    ")"
   ]
  },
  {
   "cell_type": "code",
   "execution_count": null,
   "metadata": {},
   "outputs": [],
   "source": [
    "print(config.checkpoints_path)"
   ]
  },
  {
   "cell_type": "code",
   "execution_count": null,
   "metadata": {},
   "outputs": [],
   "source": [
    "config.offline_iterations = 25000 \n",
    "config.online_iterations = 50000\n",
    "config.iql_deterministic = False\n",
    "config.expl_noise = 0.1  # std of Gaussian exploration noise\n",
    "config.noise_clip = 0.25  # range to clip noise\n",
    "config.online_steps_per_train = 32"
   ]
  },
  {
   "cell_type": "code",
   "execution_count": null,
   "metadata": {},
   "outputs": [],
   "source": [
    "evaluations = []\n",
    "\n",
    "state, done = env.reset(), False\n",
    "episode_return = 0\n",
    "episode_step = 0\n",
    "\n",
    "print(\"Offline pretraining.\")\n",
    "for t in range(int(config.offline_iterations) + int(config.online_iterations)):\n",
    "    if t == config.offline_iterations:\n",
    "        print(\"Online finetuning.\")\n",
    "\n",
    "    if config.online_iterations > 0 and t >= config.offline_iterations:\n",
    "        for iter in range(config.online_steps_per_train):\n",
    "            episode_step += 1\n",
    "            action = actor.act(state, device=config.device)\n",
    "            if config.iql_deterministic and config.expl_noise > 0:\n",
    "                noise = np.clip(\n",
    "                    np.random.randn(*action.shape) * config.expl_noise,\n",
    "                    -config.noise_clip,\n",
    "                    config.noise_clip,\n",
    "                )\n",
    "                action = np.clip(action + noise, -actor.max_action, actor.max_action)\n",
    "            next_state, reward, done, _ = env.step(action)\n",
    "            episode_return += reward\n",
    "            replay_buffer.interaction_buffer.add_transition(state, action, reward, next_state, done)\n",
    "            state = next_state\n",
    "            if done:\n",
    "                state, done = env.reset(), False\n",
    "                episode_return = 0\n",
    "                episode_step = 0\n",
    "\n",
    "    batch = replay_buffer.sample(config.batch_size)\n",
    "    batch = [b.to(config.device) for b in batch]\n",
    "    log_dict = trainer.train(batch)\n",
    "\n",
    "    if t % config.log_every == 0:\n",
    "        wandb.log(log_dict, step=trainer.total_it)\n",
    "\n",
    "    if t % config.eval_freq == 0 or t == config.max_timesteps - 1:\n",
    "        print('Diffusion buffer size:', diffusion_buffer._size)\n",
    "        print('Interaction buffer size:', interaction_buffer._size)\n",
    "        print(f\"Time steps: {t + 1}\")\n",
    "        eval_scores = iql.eval_actor(\n",
    "            eval_env,\n",
    "            actor,\n",
    "            device=config.device,\n",
    "            n_episodes=config.n_episodes,\n",
    "            seed=config.seed,\n",
    "        )\n",
    "        eval_score = eval_scores.mean()\n",
    "        evaluations.append(eval_score)\n",
    "        print(\"------------------------------------------------\")\n",
    "        print(f\"Evaluation over {config.n_episodes} episodes: {eval_score:.3f}\")\n",
    "        print(\"------------------------------------------------\")\n",
    "        if config.checkpoints_path is not None and config.save_checkpoints:\n",
    "            torch.save(\n",
    "                trainer.state_dict(),\n",
    "                os.path.join(config.checkpoints_path, f\"checkpoint_{t}.pt\"),\n",
    "            )\n",
    "        wandb.log({\"Score\": eval_score}, step=trainer.total_it)"
   ]
  }
 ],
 "metadata": {
  "kernelspec": {
   "display_name": ".venv",
   "language": "python",
   "name": "python3"
  },
  "language_info": {
   "codemirror_mode": {
    "name": "ipython",
    "version": 3
   },
   "file_extension": ".py",
   "mimetype": "text/x-python",
   "name": "python",
   "nbconvert_exporter": "python",
   "pygments_lexer": "ipython3",
   "version": "3.9.6"
  }
 },
 "nbformat": 4,
 "nbformat_minor": 2
}
