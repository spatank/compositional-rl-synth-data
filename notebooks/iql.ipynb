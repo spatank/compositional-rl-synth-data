{
 "cells": [
  {
   "cell_type": "code",
   "execution_count": null,
   "metadata": {},
   "outputs": [],
   "source": [
    "from diffusion.utils import *\n",
    "from corl.algorithms import iql\n",
    "from corl.shared.buffer import *\n",
    "import wandb\n",
    "import pathlib\n",
    "\n",
    "base_agent_data_path = '/Users/shubhankar/Developer/compositional-rl-synth-data/data'\n",
    "base_synthetic_data_path = '/Users/shubhankar/Developer/compositional-rl-synth-data/cluster_results/diffusion/monolithic_seed0_train98_1'\n",
    "base_results_folder = '/Users/shubhankar/Developer/compositional-rl-synth-data/local_results/offline_learning'           "
   ]
  },
  {
   "cell_type": "code",
   "execution_count": null,
   "metadata": {},
   "outputs": [],
   "source": [
    "config = iql.TrainConfig()\n",
    "\n",
    "data_type = 'synthetic'\n",
    "\n",
    "if data_type == 'synthetic':\n",
    "    config.seed = 0\n",
    "    synthetic_run_id = ''\n",
    "    mode = ''  # train/test\n",
    "    config.n_episodes = 10\n",
    "    config.batch_size = 1024\n",
    "\n",
    "config.max_timesteps = 50000\n",
    "\n",
    "robot = 'Panda'\n",
    "obj = 'Box'\n",
    "obst = 'None'\n",
    "subtask = 'Push'\n",
    "\n",
    "env = composuite.make(robot, obj, obst, subtask, use_task_id_obs=True, ignore_done=False)\n",
    "agent_dataset = load_single_composuite_dataset(base_path=base_agent_data_path, \n",
    "                                               dataset_type='expert', \n",
    "                                               robot=robot, obj=obj, \n",
    "                                               obst=obst, task=subtask)\n",
    "agent_dataset, _ = remove_indicator_vectors(env.modality_dims, transitions_dataset(agent_dataset))\n",
    "\n",
    "integer_dims, constant_dims = identify_special_dimensions(agent_dataset['observations'])\n",
    "print('Integer dimensions:', integer_dims)\n",
    "print('Constant dimensions:', constant_dims)\n",
    "\n",
    "if data_type == 'synthetic':\n",
    "    synthetic_dataset = load_single_synthetic_dataset(base_path=os.path.join(base_synthetic_data_path, synthetic_run_id, mode), \n",
    "                                                      robot=robot, obj=obj, \n",
    "                                                      obst=obst, task=subtask)\n",
    "    synthetic_dataset = process_special_dimensions(synthetic_dataset, integer_dims, constant_dims)"
   ]
  },
  {
   "cell_type": "code",
   "execution_count": null,
   "metadata": {},
   "outputs": [],
   "source": [
    "agent_dataset['observations'].shape"
   ]
  },
  {
   "cell_type": "code",
   "execution_count": null,
   "metadata": {},
   "outputs": [],
   "source": [
    "synthetic_dataset['observations'].shape"
   ]
  },
  {
   "cell_type": "code",
   "execution_count": null,
   "metadata": {},
   "outputs": [],
   "source": [
    "base_results_path = pathlib.Path(base_results_folder)\n",
    "idx = 1\n",
    "while (base_results_path / f\"offline_learning_{data_type}_{idx}\").exists():\n",
    "    idx += 1\n",
    "results_folder = base_results_path / f\"offline_learning_{data_type}_{idx}\"\n",
    "results_folder.mkdir(parents=True, exist_ok=True)\n",
    "\n",
    "config.checkpoints_path = results_folder"
   ]
  },
  {
   "cell_type": "code",
   "execution_count": null,
   "metadata": {},
   "outputs": [],
   "source": [
    "if data_type == 'agent':\n",
    "    dataset = agent_dataset\n",
    "    num_samples = int(dataset['observations'].shape[0])\n",
    "elif data_type == 'synthetic':\n",
    "    dataset = synthetic_dataset\n",
    "    num_samples = int(dataset['observations'].shape[0])\n",
    "print(\"Samples:\", num_samples)"
   ]
  },
  {
   "cell_type": "code",
   "execution_count": null,
   "metadata": {},
   "outputs": [],
   "source": [
    "env = composuite.make(robot, obj, obst, subtask, use_task_id_obs=False, has_renderer=True, ignore_done=False)\n",
    "state_dim = env.observation_space.shape[0]\n",
    "action_dim = env.action_space.shape[0]\n",
    "state_mean, state_std = iql.compute_mean_std(dataset[\"observations\"], eps=1e-3)\n",
    "env = iql.wrap_env(env, state_mean=state_mean, state_std=state_std)"
   ]
  },
  {
   "cell_type": "code",
   "execution_count": null,
   "metadata": {},
   "outputs": [],
   "source": [
    "device = \"cpu\"\n",
    "\n",
    "replay_buffer = prepare_replay_buffer(\n",
    "    state_dim=state_dim,\n",
    "    action_dim=action_dim,\n",
    "    dataset=dataset,\n",
    "    num_samples=num_samples,\n",
    "    device=device,\n",
    "    reward_normalizer=RewardNormalizer(dataset, config.env) if config.normalize_reward else None,\n",
    "    state_normalizer=StateNormalizer(state_mean, state_std),\n",
    "    )"
   ]
  },
  {
   "cell_type": "code",
   "execution_count": null,
   "metadata": {},
   "outputs": [],
   "source": [
    "max_action = float(env.action_space.high[0])"
   ]
  },
  {
   "cell_type": "code",
   "execution_count": null,
   "metadata": {},
   "outputs": [],
   "source": [
    "# Set seeds\n",
    "seed = config.seed\n",
    "iql.set_seed(seed, env)\n",
    "\n",
    "q_network = iql.TwinQ(state_dim, action_dim, hidden_dim=config.network_width, n_hidden=config.network_depth).to(config.device)\n",
    "q_optimizer = torch.optim.Adam(q_network.parameters(), lr=3e-4)\n",
    "\n",
    "v_network = iql.ValueFunction(state_dim, hidden_dim=config.network_width, n_hidden=config.network_depth).to(config.device)\n",
    "v_optimizer = torch.optim.Adam(v_network.parameters(), lr=3e-4)\n",
    "\n",
    "actor = (\n",
    "    iql.DeterministicPolicy(state_dim, action_dim, max_action, hidden_dim=config.network_width, n_hidden=config.network_depth)\n",
    "    if config.iql_deterministic else\n",
    "    iql.GaussianPolicy(state_dim, action_dim, max_action, hidden_dim=config.network_width, n_hidden=config.network_depth)\n",
    ").to(config.device)\n",
    "actor_optimizer = torch.optim.Adam(actor.parameters(), lr=3e-4)"
   ]
  },
  {
   "cell_type": "code",
   "execution_count": null,
   "metadata": {},
   "outputs": [],
   "source": [
    "kwargs = {\n",
    "    \"max_action\": max_action,\n",
    "    \"actor\": actor,\n",
    "    \"actor_optimizer\": actor_optimizer,\n",
    "    \"q_network\": q_network,\n",
    "    \"q_optimizer\": q_optimizer,\n",
    "    \"v_network\": v_network,\n",
    "    \"v_optimizer\": v_optimizer,\n",
    "    \"discount\": config.discount,\n",
    "    \"tau\": config.tau,\n",
    "    \"device\": config.device,\n",
    "    # IQL\n",
    "    \"beta\": config.beta,\n",
    "    \"iql_tau\": config.iql_tau,\n",
    "    \"max_steps\": config.max_timesteps\n",
    "}\n",
    "\n",
    "print(\"----------------------------------------------------\")\n",
    "print(f\"Training IQL, Env: {config.env}, Seed: {seed}\")\n",
    "print(\"----------------------------------------------------\")\n",
    "\n",
    "trainer = iql.ImplicitQLearning(**kwargs)"
   ]
  },
  {
   "cell_type": "code",
   "execution_count": null,
   "metadata": {},
   "outputs": [],
   "source": [
    "wandb_project = 'offline_rl_diffusion'\n",
    "wandb_entity = ''\n",
    "wandb_group = 'corl_training'\n",
    "\n",
    "wandb.init(\n",
    "    project=wandb_project,\n",
    "    entity=wandb_entity,\n",
    "    group=wandb_group,\n",
    "    name=results_folder.name,\n",
    ")"
   ]
  },
  {
   "cell_type": "code",
   "execution_count": null,
   "metadata": {},
   "outputs": [],
   "source": [
    "print(config.checkpoints_path)"
   ]
  },
  {
   "cell_type": "code",
   "execution_count": null,
   "metadata": {},
   "outputs": [],
   "source": [
    "evaluations = []\n",
    "for t in range(int(config.max_timesteps)):\n",
    "    batch = replay_buffer.sample(config.batch_size)\n",
    "    batch = [b.to(config.device) for b in batch]\n",
    "    log_dict = trainer.train(batch)\n",
    "\n",
    "    if t % config.log_every == 0:\n",
    "        wandb.log(log_dict, step=trainer.total_it)\n",
    "\n",
    "    # Evaluate episode\n",
    "    if t % config.eval_freq == 0 or t == config.max_timesteps - 1:\n",
    "        print(f\"Time steps: {t + 1}\")\n",
    "        eval_scores = iql.eval_actor(\n",
    "            env,\n",
    "            actor,\n",
    "            device=config.device,\n",
    "            n_episodes=config.n_episodes,\n",
    "            seed=config.seed,\n",
    "        )\n",
    "        eval_score = eval_scores.mean()\n",
    "        evaluations.append(eval_score)\n",
    "        print(\"------------------------------------------------\")\n",
    "        print(\n",
    "            f\"Evaluation over {config.n_episodes} episodes: \"\n",
    "            f\"{eval_score:.3f}\"\n",
    "        )\n",
    "        print(\"------------------------------------------------\")\n",
    "        if config.checkpoints_path is not None and config.save_checkpoints:\n",
    "            torch.save(\n",
    "                trainer.state_dict(),\n",
    "                os.path.join(config.checkpoints_path, f\"checkpoint_{t}.pt\"),\n",
    "            )\n",
    "        log_dict = {\"Score\": eval_score}\n",
    "        wandb.log(log_dict, step=trainer.total_it)"
   ]
  }
 ],
 "metadata": {
  "kernelspec": {
   "display_name": ".venv",
   "language": "python",
   "name": "python3"
  },
  "language_info": {
   "codemirror_mode": {
    "name": "ipython",
    "version": 3
   },
   "file_extension": ".py",
   "mimetype": "text/x-python",
   "name": "python",
   "nbconvert_exporter": "python",
   "pygments_lexer": "ipython3",
   "version": "3.9.6"
  }
 },
 "nbformat": 4,
 "nbformat_minor": 2
}
