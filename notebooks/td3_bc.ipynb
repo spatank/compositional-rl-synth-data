{
 "cells": [
  {
   "cell_type": "code",
   "execution_count": null,
   "metadata": {},
   "outputs": [],
   "source": [
    "from diffusion.utils import *\n",
    "from corl.algorithms.td3_bc import *\n",
    "from corl.shared.buffer import *\n",
    "from corl.shared.logger import *\n",
    "\n",
    "base_agent_data_path = '/Users/shubhankar/Developer/compositional-rl-synth-data/data'\n",
    "base_synthetic_data_path = '/Users/shubhankar/Developer/compositional-rl-synth-data/cluster_results/diffusion'\n",
    "\n",
    "base_results_folder = '/Users/shubhankar/Developer/compositional-rl-synth-data/local_results/offline_learning'\n",
    "\n",
    "def identify_special_dimensions(data):\n",
    "\n",
    "    integer_dims = []\n",
    "    constant_dims = []\n",
    "    \n",
    "    for i in range(data.shape[1]):\n",
    "        column = data[:, i]\n",
    "        if np.all(np.equal(column, np.round(column))):\n",
    "            integer_dims.append(i)\n",
    "        elif np.all(column == column[0]):\n",
    "            constant_dims.append(i)\n",
    "    \n",
    "    return integer_dims, constant_dims\n",
    "\n",
    "\n",
    "def process_special_dimensions(synthetic_dataset, integer_dims, constant_dims):\n",
    "\n",
    "    processed_dataset = {k: v.copy() for k, v in synthetic_dataset.items()}\n",
    "    \n",
    "    for key in ['observations', 'next_observations']:\n",
    "        # Round integer dimensions\n",
    "        if integer_dims:\n",
    "            processed_dataset[key][:, integer_dims] = np.round(\n",
    "                synthetic_dataset[key][:, integer_dims]\n",
    "            )\n",
    "        \n",
    "        # Round constant dimensions to 2 decimal places\n",
    "        if constant_dims:\n",
    "            processed_dataset[key][:, constant_dims] = np.round(\n",
    "                synthetic_dataset[key][:, constant_dims], \n",
    "                decimals=2\n",
    "            )\n",
    "    \n",
    "    return processed_dataset"
   ]
  },
  {
   "cell_type": "code",
   "execution_count": null,
   "metadata": {},
   "outputs": [],
   "source": [
    "config = TrainConfig()\n",
    "\n",
    "data_type = 'agent'\n",
    "\n",
    "if data_type == 'synthetic':\n",
    "    config.seed = 0\n",
    "    synthetic_run_id = 'single_seed0_train1_4'\n",
    "    mode = ''  # train/test\n",
    "    config.n_episodes = 10\n",
    "    config.batch_size = 1024\n",
    "\n",
    "config.max_timesteps = 50000\n",
    "\n",
    "robot = 'Kinova3'\n",
    "obj = 'Dumbbell'\n",
    "obst = 'ObjectWall'\n",
    "subtask = 'Shelf'\n",
    "\n",
    "env = composuite.make(robot, obj, obst, subtask, use_task_id_obs=True, ignore_done=False)\n",
    "agent_dataset = load_single_composuite_dataset(base_path=base_agent_data_path, \n",
    "                                               dataset_type='expert', \n",
    "                                               robot=robot, obj=obj, \n",
    "                                               obst=obst, task=subtask)\n",
    "agent_dataset, _ = remove_indicator_vectors(env.modality_dims, transitions_dataset(agent_dataset))\n",
    "\n",
    "integer_dims, constant_dims = identify_special_dimensions(agent_dataset['observations'])\n",
    "print('Integer dimensions:', integer_dims)\n",
    "print('Constant dimensions:', constant_dims)\n",
    "\n",
    "if data_type == 'synthetic':\n",
    "    synthetic_dataset = load_single_synthetic_dataset(base_path=os.path.join(base_synthetic_data_path, synthetic_run_id, mode), \n",
    "                                                    robot=robot, obj=obj, \n",
    "                                                    obst=obst, task=subtask)\n",
    "    synthetic_dataset = process_special_dimensions(synthetic_dataset, integer_dims, constant_dims)"
   ]
  },
  {
   "cell_type": "code",
   "execution_count": null,
   "metadata": {},
   "outputs": [],
   "source": [
    "agent_dataset['observations'].shape"
   ]
  },
  {
   "cell_type": "code",
   "execution_count": null,
   "metadata": {},
   "outputs": [],
   "source": [
    "# synthetic_dataset['observations'].shape"
   ]
  },
  {
   "cell_type": "code",
   "execution_count": null,
   "metadata": {},
   "outputs": [],
   "source": [
    "base_results_path = pathlib.Path(base_results_folder)\n",
    "idx = 1\n",
    "while (base_results_path / f\"offline_learning_{data_type}_{idx}\").exists():\n",
    "    idx += 1\n",
    "results_folder = base_results_path / f\"offline_learning_{data_type}_{idx}\"\n",
    "results_folder.mkdir(parents=True, exist_ok=True)\n",
    "\n",
    "config.checkpoints_path = results_folder"
   ]
  },
  {
   "cell_type": "code",
   "execution_count": null,
   "metadata": {},
   "outputs": [],
   "source": [
    "if data_type == 'agent':\n",
    "    dataset = agent_dataset\n",
    "    num_samples = int(dataset['observations'].shape[0])\n",
    "elif data_type == 'synthetic':\n",
    "    dataset = synthetic_dataset\n",
    "    num_samples = int(dataset['observations'].shape[0])\n",
    "print(\"Samples:\", num_samples)"
   ]
  },
  {
   "cell_type": "code",
   "execution_count": null,
   "metadata": {},
   "outputs": [],
   "source": [
    "env = composuite.make(robot, obj, obst, subtask, use_task_id_obs=False, has_renderer=True, ignore_done=False)\n",
    "state_dim = env.observation_space.shape[0]\n",
    "action_dim = env.action_space.shape[0]\n",
    "state_mean, state_std = compute_mean_std(dataset[\"observations\"], eps=1e-3)\n",
    "env = wrap_env(env, state_mean=state_mean, state_std=state_std)"
   ]
  },
  {
   "cell_type": "code",
   "execution_count": null,
   "metadata": {},
   "outputs": [],
   "source": [
    "device = \"cpu\"\n",
    "\n",
    "replay_buffer = prepare_replay_buffer(\n",
    "    state_dim=state_dim,\n",
    "    action_dim=action_dim,\n",
    "    dataset=dataset,\n",
    "    num_samples=num_samples,\n",
    "    device=device,\n",
    "    reward_normalizer=RewardNormalizer(dataset, config.env) if config.normalize_reward else None,\n",
    "    state_normalizer=StateNormalizer(state_mean, state_std),\n",
    "    )"
   ]
  },
  {
   "cell_type": "code",
   "execution_count": null,
   "metadata": {},
   "outputs": [],
   "source": [
    "max_action = float(env.action_space.high[0])"
   ]
  },
  {
   "cell_type": "code",
   "execution_count": null,
   "metadata": {},
   "outputs": [],
   "source": [
    "logger = Logger(results_folder, seed=config.seed)\n",
    "\n",
    "# Set seeds\n",
    "seed = config.seed\n",
    "set_seed(seed, env)\n",
    "\n",
    "actor = Actor(state_dim, action_dim, max_action, hidden_dim=config.network_width, n_hidden=config.network_depth).to(config.device)\n",
    "actor_optimizer = torch.optim.Adam(actor.parameters(), lr=3e-4)\n",
    "\n",
    "critic_1 = Critic(state_dim, action_dim, hidden_dim=config.network_width, n_hidden=config.network_depth).to(config.device)\n",
    "critic_1_optimizer = torch.optim.Adam(critic_1.parameters(), lr=3e-4)\n",
    "\n",
    "critic_2 = Critic(state_dim, action_dim, hidden_dim=config.network_width, n_hidden=config.network_depth).to(config.device)\n",
    "critic_2_optimizer = torch.optim.Adam(critic_2.parameters(), lr=3e-4)"
   ]
  },
  {
   "cell_type": "code",
   "execution_count": null,
   "metadata": {},
   "outputs": [],
   "source": [
    "kwargs = {\n",
    "    \"max_action\": max_action,\n",
    "    \"actor\": actor,\n",
    "    \"actor_optimizer\": actor_optimizer,\n",
    "    \"critic_1\": critic_1,\n",
    "    \"critic_1_optimizer\": critic_1_optimizer,\n",
    "    \"critic_2\": critic_2,\n",
    "    \"critic_2_optimizer\": critic_2_optimizer,\n",
    "    \"discount\": config.discount,\n",
    "    \"tau\": config.tau,\n",
    "    \"policy_noise\": config.policy_noise * max_action,\n",
    "    \"noise_clip\": config.noise_clip * max_action,\n",
    "    \"policy_freq\": config.policy_freq,\n",
    "    \"alpha\": config.alpha,\n",
    "}\n",
    "\n",
    "print(\"----------------------------------------------------\")\n",
    "print(f\"Training TD3 + BC, Env: {config.env}, Seed: {seed}\")\n",
    "print(\"----------------------------------------------------\")\n",
    "\n",
    "trainer = TD3_BC(**kwargs)"
   ]
  },
  {
   "cell_type": "code",
   "execution_count": null,
   "metadata": {},
   "outputs": [],
   "source": [
    "wandb_project = 'offline_rl_diffusion'\n",
    "wandb_entity = ''\n",
    "wandb_group = 'corl_training'\n",
    "\n",
    "wandb.init(\n",
    "    project=wandb_project,\n",
    "    entity=wandb_entity,\n",
    "    group=wandb_group,\n",
    "    name=results_folder.name,\n",
    ")"
   ]
  },
  {
   "cell_type": "code",
   "execution_count": null,
   "metadata": {},
   "outputs": [],
   "source": [
    "print(config.checkpoints_path)"
   ]
  },
  {
   "cell_type": "code",
   "execution_count": null,
   "metadata": {},
   "outputs": [],
   "source": [
    "evaluations = []\n",
    "for t in range(int(config.max_timesteps)):\n",
    "    batch = replay_buffer.sample(config.batch_size)\n",
    "    batch = [b.to(config.device) for b in batch]\n",
    "    log_dict = trainer.train(batch)\n",
    "\n",
    "    if t % config.log_every == 0:\n",
    "        wandb.log(log_dict, step=trainer.total_it)\n",
    "        logger.log({'step': trainer.total_it, **log_dict}, mode='train')\n",
    "\n",
    "    # Evaluate episode\n",
    "    if t % config.eval_freq == 0 or t == config.max_timesteps - 1:\n",
    "        print(f\"Time steps: {t + 1}\")\n",
    "        eval_scores = eval_actor(\n",
    "            env,\n",
    "            actor,\n",
    "            device=config.device,\n",
    "            n_episodes=config.n_episodes,\n",
    "            seed=config.seed,\n",
    "        )\n",
    "        eval_score = eval_scores.mean()\n",
    "        evaluations.append(eval_score)\n",
    "        print(\"------------------------------------------------\")\n",
    "        print(\n",
    "            f\"Evaluation over {config.n_episodes} episodes: \"\n",
    "            f\"{eval_score:.3f}\"\n",
    "        )\n",
    "        print(\"------------------------------------------------\")\n",
    "        if config.checkpoints_path is not None and config.save_checkpoints:\n",
    "            torch.save(\n",
    "                trainer.state_dict(),\n",
    "                os.path.join(config.checkpoints_path, f\"checkpoint_{t}.pt\"),\n",
    "            )\n",
    "        log_dict = {\"Score\": eval_score}\n",
    "        wandb.log(log_dict, step=trainer.total_it)\n",
    "        logger.log({'step': trainer.total_it, **log_dict}, mode='eval')"
   ]
  }
 ],
 "metadata": {
  "kernelspec": {
   "display_name": ".venv",
   "language": "python",
   "name": "python3"
  },
  "language_info": {
   "codemirror_mode": {
    "name": "ipython",
    "version": 3
   },
   "file_extension": ".py",
   "mimetype": "text/x-python",
   "name": "python",
   "nbconvert_exporter": "python",
   "pygments_lexer": "ipython3",
   "version": "3.9.6"
  }
 },
 "nbformat": 4,
 "nbformat_minor": 2
}
